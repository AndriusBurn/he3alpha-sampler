{
 "cells": [
  {
   "cell_type": "code",
   "execution_count": 1,
   "metadata": {},
   "outputs": [],
   "source": [
    "# Useful imports\n",
    "import numpy as np, matplotlib.pyplot as plt\n",
    "import sys; sys.path.append('./')\n",
    "import sim_models, models\n",
    "from data_loader import DataLoader\n",
    "import emcee, corner\n",
    "from sklearn.covariance import EmpiricalCovariance\n",
    "import numpy.linalg as lin\n",
    "import seaborn as sns\n",
    "from autocorr_time import integrated_time"
   ]
  },
  {
   "attachments": {},
   "cell_type": "markdown",
   "metadata": {},
   "source": [
    "# Set up the models\n",
    "## Fixed error model first"
   ]
  },
  {
   "cell_type": "code",
   "execution_count": 2,
   "metadata": {},
   "outputs": [],
   "source": [
    "# Which data to load?\n",
    "# E_min : [0.676, 0.84 , 1.269, 1.741, 2.12 , 2.609, 2.609, 3.586, 4.332, 5.475]\n",
    "# E_max : [0.706, 0.868, 1.292, 1.759, 2.137, 2.624, 2.624, 3.598, 4.342, 5.484]\n",
    "E_min = 0.676 # MeV\n",
    "E_max = 4.342 # MeV\n",
    "which_data = 'som'\n",
    "\n",
    "loader = DataLoader(E_min, E_max, which_data)\n",
    "\n",
    "data = loader.get_data()\n",
    "norm_group = loader.get_normalization_grouping()\n",
    "gauss_prior_f = loader.get_normalization_prior_info()"
   ]
  },
  {
   "cell_type": "code",
   "execution_count": 3,
   "metadata": {},
   "outputs": [],
   "source": [
    "# Select the parameterization\n",
    "parameterization = 'bs_C'\n",
    "\n",
    "# Use theory cov?\n",
    "use_theory_cov = True\n",
    "\n",
    "# # # Set the parameter bounds and initialize the model\n",
    "if parameterization == 'standard':\n",
    "    labels = ['A0', 'r0', 'A1+', 'r1+', 'P1+', 'A1-', 'r1-', 'P1-']\n",
    "    sys.stderr.write('No Longer Supported....')\n",
    "    sys.exit(-1)\n",
    "elif parameterization == 'bound_state':\n",
    "    labels = ['A0', 'r0', 'r1+', 'P1+', 'r1-', 'P1-']\n",
    "    param_bounds = np.array([[-0.02, 0.06], [-3, 3], [-1, 1], [-6, 6], [-1, 1], [-6, 6]])\n",
    "    params_prior = np.array([[0.025, 0.015], [0.8, 0.4], [0.0, 0.1], [0.0, 1.6], [0.0, 0.1], [0.0, 1.6]]) # center, width\n",
    "    gauss_prior_params = np.hstack([param_bounds, params_prior])\n",
    "    sys.stderr.write('Not implemented yet...')\n",
    "    sys.exit(-1)\n",
    "elif parameterization == 'bs_C':\n",
    "    labels = ['$A_{0}$', '$r_{0}$', '$(C_{1}^{+})^{2}$', '$P_{1}^{+}$', '$(C_{1}^{-})^{2}$', '$P_{1}^{-}$']\n",
    "    param_bounds = np.array([[-0.02, 0.06], [-3, 3], [5.0, 25.0], [-6, 6], [5.0, 25.0], [-6, 6]])\n",
    "    params_prior = np.array([[0.025, 0.015], [0.8, 0.4], [13.84, 1.63], [0.0, 1.6], [12.59, 1.85], [0.0, 1.6]]) # center, width\n",
    "    gauss_prior_params = np.hstack([param_bounds, params_prior])\n",
    "    model1 = models.BS_C(data, norm_group, gauss_prior_params, gauss_prior_f, use_theory_cov)\n",
    "elif parameterization == 'init-f-wave':\n",
    "    labels = ['A0', 'r0', 'C1+^2', 'P1+', 'C1-^2', 'P1-', 'r3+']\n",
    "    param_bounds = np.array([[-0.02, 0.06], [-3, 3], [5.0, 25.0], [-6, 6], [5.0, 25.0], [-6, 6], [-3, 0]])\n",
    "    params_prior = np.array([[0.025, 0.015], [0.8, 0.4], [13.84, 1.63], [0.0, 1.6], [12.59, 1.85], [0.0, 1.6], [-0.5, 1]]) # center, width\n",
    "    gauss_prior_params = np.hstack([param_bounds, params_prior])\n",
    "    model1 = models.F_Wave_AR(data, norm_group, gauss_prior_params, gauss_prior_f, use_theory_cov)\n",
    "\n",
    "# Add normalization labels\n",
    "for i in range(0, int(np.max(norm_group) + 1)):\n",
    "    labels.append('f_{}'.format(i))\n"
   ]
  },
  {
   "cell_type": "code",
   "execution_count": 4,
   "metadata": {},
   "outputs": [],
   "source": [
    "parameterization = 'sim_bs_C'\n",
    "\n",
    "if parameterization == 'sim_bs_C':\n",
    "    labels = ['$\\\\bar{c}^{2}$', '$\\Lambda_{B}$', '$A_{0}$', '$r_{0}$', '$(C_{1}^{+})^{2}$', '$P_{1}^{+}$', '$(C_{1}^{-})^{2}$', '$P_{1}^{-}$']\n",
    "    if param_bounds is None:\n",
    "        param_bounds = np.array([[-0.02, 0.06], [-3, 3], [5.0, 25.0], [-6, 6], [5.0, 25.0], [-6, 6]])\n",
    "    if params_prior is None:\n",
    "        params_prior = np.array([[0.025, 0.015], [0.8, 0.4], [13.84, 1.63], [0.0, 1.6], [12.59, 1.85], [0.0, 1.6]]) # center, width\n",
    "    gauss_prior_params = np.hstack([param_bounds, params_prior])\n",
    "    model2 = sim_models.Sim_BS_C(data, norm_group, gauss_prior_params, gauss_prior_f, use_theory_cov)\n",
    "else:\n",
    "    sys.stderr.write('Nothing else is implemented yet...')\n",
    "    sys.exit(-1)\n",
    "\n",
    "# Add normalization labels\n",
    "if labels is not None:\n",
    "    for i in range(0, int(np.max(norm_group) + 1)):\n",
    "        labels.append('$f_{}$'.format(i))"
   ]
  },
  {
   "cell_type": "code",
   "execution_count": 5,
   "metadata": {},
   "outputs": [],
   "source": [
    "params = np.array([0.0115, 0.8650, 15.0263, 1.8815, 13.4290, 1.2151])"
   ]
  },
  {
   "cell_type": "code",
   "execution_count": 6,
   "metadata": {},
   "outputs": [
    {
     "data": {
      "text/plain": [
       "array([0., 0., 0., 0., 0., 0., 0., 0., 0., 0., 0., 0., 0., 0., 0., 0., 0.,\n",
       "       0., 0., 0., 0., 0., 0., 0., 0., 0., 0., 0., 0., 0., 0., 0., 0., 0.,\n",
       "       0., 0., 0., 0., 0., 0., 0., 0., 0., 0., 0., 0., 0., 0., 0., 0., 0.,\n",
       "       0., 0., 0., 0., 0., 0., 0., 0., 0., 0., 0., 0., 0., 0., 0., 0., 0.,\n",
       "       0., 0., 0., 0., 0., 0., 0., 0., 0., 0., 0., 0., 0., 0., 0., 0., 0.,\n",
       "       0., 0., 0., 0., 0., 0., 0., 0., 0., 0., 0., 0., 0., 0., 0., 0., 0.,\n",
       "       0., 0., 0., 0., 0., 0., 0., 0., 0., 0., 0., 0., 0., 0., 0., 0., 0.,\n",
       "       0., 0., 0., 0., 0., 0., 0., 0., 0., 0., 0., 0., 0., 0., 0., 0., 0.,\n",
       "       0., 0., 0., 0., 0., 0., 0., 0., 0., 0., 0., 0., 0., 0., 0., 0., 0.,\n",
       "       0., 0., 0., 0., 0., 0., 0., 0., 0., 0., 0., 0., 0., 0., 0., 0., 0.,\n",
       "       0., 0., 0., 0., 0., 0., 0., 0., 0., 0., 0., 0., 0., 0., 0., 0., 0.,\n",
       "       0., 0., 0., 0., 0., 0., 0., 0., 0., 0., 0., 0., 0., 0., 0., 0., 0.,\n",
       "       0., 0., 0., 0., 0., 0., 0., 0., 0., 0., 0., 0., 0., 0., 0., 0., 0.,\n",
       "       0., 0., 0., 0., 0., 0., 0., 0., 0., 0., 0., 0., 0., 0., 0., 0., 0.,\n",
       "       0., 0., 0., 0., 0., 0., 0., 0., 0., 0., 0., 0., 0., 0., 0., 0., 0.,\n",
       "       0., 0., 0., 0., 0., 0., 0., 0., 0., 0., 0., 0., 0., 0., 0., 0., 0.,\n",
       "       0., 0., 0., 0., 0., 0., 0., 0., 0., 0., 0., 0., 0., 0., 0., 0., 0.,\n",
       "       0., 0., 0., 0., 0., 0., 0., 0., 0., 0., 0., 0., 0., 0., 0., 0., 0.,\n",
       "       0., 0., 0., 0., 0., 0., 0., 0., 0., 0., 0., 0., 0., 0., 0., 0., 0.,\n",
       "       0., 0., 0., 0., 0., 0., 0., 0., 0., 0., 0., 0., 0., 0., 0., 0., 0.,\n",
       "       0., 0., 0., 0., 0., 0., 0., 0., 0., 0., 0., 0., 0., 0., 0., 0., 0.,\n",
       "       0., 0., 0., 0., 0., 0., 0., 0., 0., 0., 0., 0., 0., 0., 0., 0., 0.,\n",
       "       0., 0., 0., 0., 0., 0., 0., 0., 0., 0., 0., 0., 0., 0., 0., 0., 0.,\n",
       "       0., 0., 0., 0., 0., 0., 0.])"
      ]
     },
     "execution_count": 6,
     "metadata": {},
     "output_type": "execute_result"
    }
   ],
   "source": [
    "t1 = model1.cs_theory(params)\n",
    "t2 = model2.cs_theory(params, 2)\n",
    "t1 - t2"
   ]
  },
  {
   "cell_type": "code",
   "execution_count": 7,
   "metadata": {},
   "outputs": [],
   "source": [
    "model2.set_cov_matrix(0.49, 1.0135)"
   ]
  },
  {
   "cell_type": "code",
   "execution_count": 8,
   "metadata": {},
   "outputs": [
    {
     "data": {
      "text/plain": [
       "array([[ 1.95577492e+03+0.j, -8.13682310e-02+0.j, -8.50069505e-02+0.j,\n",
       "        ..., -4.76383910e-01+0.j, -2.43792361e-01+0.j,\n",
       "        -2.71662048e-01+0.j],\n",
       "       [-8.13682310e-02+0.j,  2.83604725e+03+0.j, -4.98358350e-02+0.j,\n",
       "        ..., -2.79282927e-01+0.j, -1.42924735e-01+0.j,\n",
       "        -1.59263506e-01+0.j],\n",
       "       [-8.50069505e-02+0.j, -4.98358350e-02+0.j,  2.21581048e+03+0.j,\n",
       "        ..., -2.91772227e-01+0.j, -1.49316210e-01+0.j,\n",
       "        -1.66385637e-01+0.j],\n",
       "       ...,\n",
       "       [-4.76383910e-01+0.j, -2.79282927e-01+0.j, -2.91772227e-01+0.j,\n",
       "        ...,  2.67823442e+02+0.j, -8.36776754e-01+0.j,\n",
       "        -9.32434820e-01+0.j],\n",
       "       [-2.43792361e-01+0.j, -1.42924735e-01+0.j, -1.49316210e-01+0.j,\n",
       "        ..., -8.36776754e-01+0.j,  9.47443095e+01+0.j,\n",
       "        -4.77179185e-01+0.j],\n",
       "       [-2.71662048e-01+0.j, -1.59263506e-01+0.j, -1.66385637e-01+0.j,\n",
       "        ..., -9.32434820e-01+0.j, -4.77179185e-01+0.j,\n",
       "         4.95429705e+01+0.j]])"
      ]
     },
     "execution_count": 8,
     "metadata": {},
     "output_type": "execute_result"
    }
   ],
   "source": [
    "model1.inv_cov_matrix"
   ]
  },
  {
   "cell_type": "code",
   "execution_count": 9,
   "metadata": {},
   "outputs": [],
   "source": [
    "inv = np.linalg.inv(model2.cov_matrix)"
   ]
  },
  {
   "cell_type": "code",
   "execution_count": 10,
   "metadata": {},
   "outputs": [
    {
     "data": {
      "text/plain": [
       "(9.74994691205211e-07+0j)"
      ]
     },
     "execution_count": 10,
     "metadata": {},
     "output_type": "execute_result"
    }
   ],
   "source": [
    "np.max(model1.inv_cov_matrix - inv)"
   ]
  },
  {
   "cell_type": "code",
   "execution_count": null,
   "metadata": {},
   "outputs": [],
   "source": []
  }
 ],
 "metadata": {
  "kernelspec": {
   "display_name": "env",
   "language": "python",
   "name": "python3"
  },
  "language_info": {
   "codemirror_mode": {
    "name": "ipython",
    "version": 3
   },
   "file_extension": ".py",
   "mimetype": "text/x-python",
   "name": "python",
   "nbconvert_exporter": "python",
   "pygments_lexer": "ipython3",
   "version": "3.11.7"
  },
  "orig_nbformat": 4
 },
 "nbformat": 4,
 "nbformat_minor": 2
}
