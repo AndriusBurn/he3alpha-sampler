{
 "cells": [
  {
   "cell_type": "code",
   "execution_count": 2,
   "metadata": {},
   "outputs": [],
   "source": [
    "# Useful imports\n",
    "import numpy as np, matplotlib.pyplot as plt\n",
    "import sys; sys.path.append('./')\n",
    "import models\n",
    "from data_loader import DataLoader\n",
    "import emcee, corner\n",
    "from sklearn.covariance import EmpiricalCovariance\n",
    "import numpy.linalg as lin\n",
    "import seaborn as sns"
   ]
  },
  {
   "cell_type": "code",
   "execution_count": 3,
   "metadata": {},
   "outputs": [],
   "source": [
    "# Which data to load?\n",
    "# E_min : [0.676, 0.84 , 1.269, 1.741, 2.12 , 2.609, 2.609, 3.586, 4.332, 5.475]\n",
    "# E_max : [0.706, 0.868, 1.292, 1.759, 2.137, 2.624, 2.624, 3.598, 4.342, 5.484]\n",
    "E_min = 0.676 # MeV\n",
    "E_max = 4.342 # MeV\n",
    "which_data = 'som'\n",
    "\n",
    "# Select the parameterization\n",
    "parameterization = 'init-f-wave'\n",
    "\n",
    "# Use theory cov?\n",
    "use_theory_cov = False"
   ]
  },
  {
   "cell_type": "code",
   "execution_count": 4,
   "metadata": {},
   "outputs": [],
   "source": [
    "loader = DataLoader(E_min, E_max, which_data)\n",
    "\n",
    "data = loader.get_data()\n",
    "norm_group = loader.get_normalization_grouping()\n",
    "gauss_prior_f = loader.get_normalization_prior_info()"
   ]
  },
  {
   "cell_type": "code",
   "execution_count": 5,
   "metadata": {},
   "outputs": [],
   "source": [
    "# # # Set the parameter bounds and initialize the model\n",
    "if parameterization == 'standard':\n",
    "    labels = ['A0', 'r0', 'A1+', 'r1+', 'P1+', 'A1-', 'r1-', 'P1-']\n",
    "    sys.stderr.write('No Longer Supported....')\n",
    "    sys.exit(-1)\n",
    "elif parameterization == 'bound_state':\n",
    "    labels = ['A0', 'r0', 'r1+', 'P1+', 'r1-', 'P1-']\n",
    "    param_bounds = np.array([[-0.02, 0.06], [-3, 3], [-1, 1], [-6, 6], [-1, 1], [-6, 6]])\n",
    "    params_prior = np.array([[0.025, 0.015], [0.8, 0.4], [0.0, 0.1], [0.0, 1.6], [0.0, 0.1], [0.0, 1.6]]) # center, width\n",
    "    gauss_prior_params = np.hstack([param_bounds, params_prior])\n",
    "    sys.stderr.write('Not implemented yet...')\n",
    "    sys.exit(-1)\n",
    "elif parameterization == 'bs_C':\n",
    "    labels = ['$A_{0}$', '$r_{0}$', '$(C_{1}^{+})^{2}$', '$P_{1}^{+}$', '$(C_{1}^{-})^{2}$', '$P_{1}^{-}$']\n",
    "    param_bounds = np.array([[-0.02, 0.06], [-3, 3], [5.0, 25.0], [-6, 6], [5.0, 25.0], [-6, 6]])\n",
    "    params_prior = np.array([[0.025, 0.015], [0.8, 0.4], [13.84, 1.63], [0.0, 1.6], [12.59, 1.85], [0.0, 1.6]]) # center, width\n",
    "    gauss_prior_params = np.hstack([param_bounds, params_prior])\n",
    "    model = models.BS_C(data, norm_group, gauss_prior_params, gauss_prior_f, use_theory_cov)\n",
    "elif parameterization == 'init-f-wave':\n",
    "    labels = ['A0', 'r0', 'C1+^2', 'P1+', 'C1-^2', 'P1-', 'r3+']\n",
    "    param_bounds = np.array([[-0.02, 0.06], [-3, 3], [5.0, 25.0], [-6, 6], [5.0, 25.0], [-6, 6], [-3, 0]])\n",
    "    params_prior = np.array([[0.025, 0.015], [0.8, 0.4], [13.84, 1.63], [0.0, 1.6], [12.59, 1.85], [0.0, 1.6], [-0.5, 1]]) # center, width\n",
    "    gauss_prior_params = np.hstack([param_bounds, params_prior])\n",
    "    model = models.F_Wave_AR(data, norm_group, gauss_prior_params, gauss_prior_f, use_theory_cov)\n",
    "\n",
    "# Add normalization labels\n",
    "for i in range(0, int(np.max(norm_group) + 1)):\n",
    "    labels.append('f_{}'.format(i))"
   ]
  },
  {
   "cell_type": "code",
   "execution_count": 37,
   "metadata": {},
   "outputs": [],
   "source": [
    "map_values = np.array([0.0138, 0.7338, 17.4373, 1.7953, 13.6261, 0.7669, -0.1668, 0.9710, 0.9216, 1.0572, 1.0110, 1.0313, 1.0278, 1.0291, 1.0568, 1.0568, 1.0692])\n",
    "dof = np.array([17, 29, 45, 46, 52, 52, 52, 52, 53])\n",
    "energies = np.array([0.706, 0.868, 1.292, 1.759, 2.137, 2.624, 2.624, 3.598, 4.342])\n",
    "params = map_values[:model.erp_dim]\n",
    "params_f = map_values[model.erp_dim:]\n",
    "\n",
    "theory = model.cs_theory(params)\n",
    "norm = params_f[model.norm_grouping.astype(int)]\n",
    "inv_cov = model.inv_cov_matrix\n",
    "res = norm * theory - model.cs_data"
   ]
  },
  {
   "cell_type": "code",
   "execution_count": 52,
   "metadata": {},
   "outputs": [],
   "source": [
    "chi_squareds = np.zeros(int(np.max(norm_group) + 1))\n",
    "for i in range(0, norm_group.shape[0]):\n",
    "    # chi_squareds[int(norm_group[i])] += res[i] * second_piece[i]\n",
    "    chi_squareds[int(norm_group[i])] += res[i]**2 * inv_cov[i, i]"
   ]
  },
  {
   "cell_type": "code",
   "execution_count": 53,
   "metadata": {},
   "outputs": [],
   "source": [
    "chi_squareds_per_dof = chi_squareds / dof"
   ]
  },
  {
   "cell_type": "code",
   "execution_count": 78,
   "metadata": {},
   "outputs": [
    {
     "name": "stdout",
     "output_type": "stream",
     "text": [
      "   E  | chi^2 per dof\n",
      "--------------\n",
      "0.706 | 0.7046\n",
      "0.868 | 1.085\n",
      "1.292 | 1.92\n",
      "1.759 | 2.072\n",
      "2.137 | 2.443\n",
      "2.624 | 2.751\n",
      "2.624 | 1.739\n",
      "3.598 | 3.35\n",
      "4.342 | 4.019\n"
     ]
    }
   ],
   "source": [
    "print('   E  | chi^2 per dof')\n",
    "print('--------------')\n",
    "for i in range(0, chi_squareds_per_dof.shape[0]):\n",
    "    print('{:.4} | {:.4}'.format(energies[i], chi_squareds_per_dof[i]))"
   ]
  },
  {
   "cell_type": "code",
   "execution_count": null,
   "metadata": {},
   "outputs": [],
   "source": []
  }
 ],
 "metadata": {
  "kernelspec": {
   "display_name": "env",
   "language": "python",
   "name": "python3"
  },
  "language_info": {
   "codemirror_mode": {
    "name": "ipython",
    "version": 3
   },
   "file_extension": ".py",
   "mimetype": "text/x-python",
   "name": "python",
   "nbconvert_exporter": "python",
   "pygments_lexer": "ipython3",
   "version": "3.11.7"
  },
  "orig_nbformat": 4
 },
 "nbformat": 4,
 "nbformat_minor": 2
}
